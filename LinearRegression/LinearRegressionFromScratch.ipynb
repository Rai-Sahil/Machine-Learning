{
  "cells": [
    {
      "cell_type": "code",
      "source": [
        "import numpy as np\n",
        "from sympy import Matrix"
      ],
      "metadata": {
        "id": "e6WOgAZngb6D"
      },
      "execution_count": 14,
      "outputs": []
    },
    {
      "cell_type": "code",
      "source": [
        "x1 = np.array([1, 2, 3])\n",
        "x2 = np.array([2, 0, 1])\n",
        "y = np.array([2, 3, 4])"
      ],
      "metadata": {
        "id": "k0f-utuUiGak"
      },
      "execution_count": 2,
      "outputs": []
    },
    {
      "cell_type": "code",
      "source": [
        "X = np.column_stack((np.ones(len(x1)), x1, x2)) # Create matrix in with first column 1s and rest with X's\n",
        "Matrix(X)"
      ],
      "metadata": {
        "colab": {
          "base_uri": "https://localhost:8080/",
          "height": 78
        },
        "id": "5ArX5Q2GiZaM",
        "outputId": "f1840fe3-e3d3-40f6-c828-fb5f193e9d51"
      },
      "execution_count": 15,
      "outputs": [
        {
          "output_type": "execute_result",
          "data": {
            "text/plain": [
              "Matrix([\n",
              "[1.0, 1.0, 2.0],\n",
              "[1.0, 2.0, 0.0],\n",
              "[1.0, 3.0, 1.0]])"
            ],
            "text/latex": "$\\displaystyle \\left[\\begin{matrix}1.0 & 1.0 & 2.0\\\\1.0 & 2.0 & 0.0\\\\1.0 & 3.0 & 1.0\\end{matrix}\\right]$"
          },
          "metadata": {},
          "execution_count": 15
        }
      ]
    },
    {
      "cell_type": "code",
      "source": [
        "X_transform = X.T # Transform the matrix\n",
        "XTX = np.matmul(X_transform, X) # Multiple both the matrix\n",
        "XTX_inv = np.linalg.inv(XTX) # Inverse the matrix\n",
        "XTy = np.matmul(X_transform, y) # Multiply transformed matrix and y\n",
        "w = np.matmul(XTX_inv, XTy) # Multiply XTX and XTy\n",
        "print(\"Coefficients (w):\", w)"
      ],
      "metadata": {
        "colab": {
          "base_uri": "https://localhost:8080/"
        },
        "id": "Ut8EDeHMizaP",
        "outputId": "5e2be25d-1538-4ac7-85e8-51c467af4aa2"
      },
      "execution_count": 22,
      "outputs": [
        {
          "output_type": "stream",
          "name": "stdout",
          "text": [
            "Coefficients (w): [1. 1. 0.]\n"
          ]
        }
      ]
    },
    {
      "cell_type": "code",
      "source": [
        "print(f\"Equation: y = {w[0]:.1f} + {w[1]:.1f}*x1 + {w[2]:.1f}*x2\")"
      ],
      "metadata": {
        "colab": {
          "base_uri": "https://localhost:8080/"
        },
        "id": "HwwISGX9lakB",
        "outputId": "d5d566d9-d0ed-4fe1-ede1-bf07d9461dcd"
      },
      "execution_count": 25,
      "outputs": [
        {
          "output_type": "stream",
          "name": "stdout",
          "text": [
            "Equation: y = 1.0 + 1.0*x1 + 0.0*x2\n"
          ]
        }
      ]
    },
    {
      "cell_type": "code",
      "source": [
        "y_pred = np.matmul(X, w)\n",
        "error = y_pred - y\n",
        "y_pred"
      ],
      "metadata": {
        "colab": {
          "base_uri": "https://localhost:8080/"
        },
        "id": "Nc6QzhY3mp75",
        "outputId": "16019b1e-77e2-483c-b20f-99b3c553eae3"
      },
      "execution_count": 28,
      "outputs": [
        {
          "output_type": "execute_result",
          "data": {
            "text/plain": [
              "array([2., 3., 4.])"
            ]
          },
          "metadata": {},
          "execution_count": 28
        }
      ]
    },
    {
      "cell_type": "code",
      "source": [],
      "metadata": {
        "id": "EOc7mE2jnNF7"
      },
      "execution_count": null,
      "outputs": []
    }
  ],
  "metadata": {
    "colab": {
      "provenance": []
    },
    "kernelspec": {
      "display_name": "Python 3",
      "name": "python3"
    },
    "language_info": {
      "name": "python"
    }
  },
  "nbformat": 4,
  "nbformat_minor": 0
}