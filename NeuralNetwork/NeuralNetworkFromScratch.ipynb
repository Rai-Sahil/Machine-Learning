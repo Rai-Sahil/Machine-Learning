{
  "nbformat": 4,
  "nbformat_minor": 0,
  "metadata": {
    "colab": {
      "provenance": []
    },
    "kernelspec": {
      "name": "python3",
      "display_name": "Python 3"
    },
    "language_info": {
      "name": "python"
    }
  },
  "cells": [
    {
      "cell_type": "code",
      "source": [
        "import numpy as np"
      ],
      "metadata": {
        "id": "GHin6INaj55d"
      },
      "execution_count": 2,
      "outputs": []
    },
    {
      "cell_type": "code",
      "source": [
        "def sigmoid(x):\n",
        "  return 1 / (1 + np.exp(-x))\n",
        "\n",
        "# Derivative of sigmoid\n",
        "def sigmoid_derivative(x):\n",
        "  return x * (1 - x)"
      ],
      "metadata": {
        "id": "d0PK8vpej7PG"
      },
      "execution_count": 3,
      "outputs": []
    },
    {
      "cell_type": "code",
      "source": [
        "np.random.seed(42)\n",
        "\n",
        "input_neuron = 2\n",
        "output_neuron = 1\n",
        "hidden_neuron = 3\n",
        "\n",
        "weights_input_hidden = np.random.uniform(-1, 1, (input_neuron, hidden_neuron))\n",
        "weights_output_hidden = np.random.uniform(-1, 1, (hidden_neuron, output_neuron))\n",
        "\n",
        "bias_hidden = np.zeros((1, hidden_neuron))\n",
        "bias_output = np.zeros((1, output_neuron))\n",
        "\n",
        "print(\"Initial Weights (Input to Hidden):\", weights_input_hidden)\n",
        "print(\"Initial Weights (Hidden to Output):\", weights_output_hidden)"
      ],
      "metadata": {
        "colab": {
          "base_uri": "https://localhost:8080/"
        },
        "id": "GVlvv-UCkfDk",
        "outputId": "214a6143-0004-4c50-c901-ca15407f9f51"
      },
      "execution_count": 4,
      "outputs": [
        {
          "output_type": "stream",
          "name": "stdout",
          "text": [
            "Initial Weights (Input to Hidden): [[-0.25091976  0.90142861  0.46398788]\n",
            " [ 0.19731697 -0.68796272 -0.68801096]]\n",
            "Initial Weights (Hidden to Output): [[-0.88383278]\n",
            " [ 0.73235229]\n",
            " [ 0.20223002]]\n"
          ]
        }
      ]
    },
    {
      "cell_type": "code",
      "source": [
        "# Forward propagation for learning\n",
        "def forward_propagation(X):\n",
        "  global hidden_layer_input, hidden_layer_output, output_layer_input, output_layer_output\n",
        "\n",
        "  # Hidden layer calculation\n",
        "  hidden_input = np.dot(X, weights_input_hidden) + bias_hidden\n",
        "  hidden_output = sigmoid(hidden_input)\n",
        "\n",
        "  # Output layer calculations\n",
        "  final_input = np.dot(hidden_output, weights_output_hidden) + bias_output\n",
        "  final_output = sigmoid(final_input)\n",
        "\n",
        "  return hidden_output, final_output"
      ],
      "metadata": {
        "id": "CTGnQHa3leJP"
      },
      "execution_count": 5,
      "outputs": []
    },
    {
      "cell_type": "code",
      "source": [
        "def backpropagation(X, y, learning_rate=0.1):\n",
        "  global weights_input_hidden, weights_output_hidden, bias_hidden, bias_output\n",
        "\n",
        "  # Forward propagation\n",
        "  hidden_output, final_output = forward_propagation(X)\n",
        "\n",
        "  # Compute errors\n",
        "  output_error = y - final_output\n",
        "  output_delta = output_error * sigmoid_derivative(final_output)\n",
        "\n",
        "  hidden_error = output_delta.dot(weights_output_hidden.T)\n",
        "  hidden_delta = hidden_error * sigmoid_derivative(hidden_output)\n",
        "\n",
        "  # Update weights and biases\n",
        "  weights_output_hidden += hidden_output.T.dot(output_delta) * learning_rate\n",
        "  weights_input_hidden += X.T.dot(hidden_delta) * learning_rate\n",
        "\n",
        "  bias_output += np.sum(output_delta, axis=0, keepdims=True) * learning_rate\n",
        "  bias_hidden += np.sum(hidden_delta, axis=0, keepdims=True) * learning_rate"
      ],
      "metadata": {
        "id": "Exz6H5izMA78"
      },
      "execution_count": 11,
      "outputs": []
    },
    {
      "cell_type": "code",
      "source": [
        "X = np.array([[0, 0], [0, 1], [1, 0], [1, 1]])\n",
        "y = np.array([[0], [1], [1], [0]])\n",
        "\n",
        "epochs = 10_000\n",
        "for epochs in range(epochs):\n",
        "  backpropagation(X, y)\n",
        "\n",
        "  if epochs % 1000 == 0:\n",
        "    _, final_output = forward_propagation(X)\n",
        "    loss = np.mean(np.square(y - final_output)) # Mean square error\n",
        "    print(f\"Epoch {epochs}: Loss: {loss:.4f}\")\n",
        "\n",
        "_, predictions = forward_propagation(X)\n",
        "print(\"Predictions:\")\n",
        "print(predictions.round())"
      ],
      "metadata": {
        "colab": {
          "base_uri": "https://localhost:8080/"
        },
        "id": "TEMp65nzNoKa",
        "outputId": "84ba49c8-f57f-4658-cf00-289ce5366139"
      },
      "execution_count": 13,
      "outputs": [
        {
          "output_type": "stream",
          "name": "stdout",
          "text": [
            "Epoch 0: Loss: 0.0023\n",
            "Epoch 1000: Loss: 0.0019\n",
            "Epoch 2000: Loss: 0.0016\n",
            "Epoch 3000: Loss: 0.0014\n",
            "Epoch 4000: Loss: 0.0013\n",
            "Epoch 5000: Loss: 0.0012\n",
            "Epoch 6000: Loss: 0.0010\n",
            "Epoch 7000: Loss: 0.0010\n",
            "Epoch 8000: Loss: 0.0009\n",
            "Epoch 9000: Loss: 0.0008\n",
            "Predictions:\n",
            "[[0.]\n",
            " [1.]\n",
            " [1.]\n",
            " [0.]]\n"
          ]
        }
      ]
    }
  ]
}